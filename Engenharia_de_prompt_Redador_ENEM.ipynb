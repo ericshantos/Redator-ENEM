{
  "nbformat": 4,
  "nbformat_minor": 0,
  "metadata": {
    "colab": {
      "provenance": [],
      "authorship_tag": "ABX9TyNr+UHk5uWw1SXH/OwIvktJ"
    },
    "kernelspec": {
      "name": "python3",
      "display_name": "Python 3"
    },
    "language_info": {
      "name": "python"
    }
  },
  "cells": [
    {
      "cell_type": "markdown",
      "source": [
        "###### Copyright 2024 Eric dos Santos."
      ],
      "metadata": {
        "id": "wLFTaYlpc4cP"
      }
    },
    {
      "cell_type": "code",
      "source": [
        "#@title The MIT License (MIT)\n",
        "#\n",
        "# Copyright (c) 2024 Eric dos Santos.\n",
        "#\n",
        "# Permission is hereby granted, free of charge, to any person obtaining a copy\n",
        "# of this software and associated documentation files (the \"Software\"), to deal\n",
        "# in the Software without restriction, including without limitation the rights\n",
        "# to use, copy, modify, merge, publish, distribute, sublicense, and/or sell\n",
        "# copies of the Software, and to permit persons to whom the Software is\n",
        "# furnished to do so, subject to the following conditions:\n",
        "#\n",
        "# The above copyright notice and this permission notice shall be included in\n",
        "# all copies or substantial portions of the Software.\n",
        "#\n",
        "# THE SOFTWARE IS PROVIDED \"AS IS\", WITHOUT WARRANTY OF ANY KIND, EXPRESS OR\n",
        "# IMPLIED, INCLUDING BUT NOT LIMITED TO THE WARRANTIES OF MERCHANTABILITY,\n",
        "# FITNESS FOR A PARTICULAR PURPOSE AND NONINFRINGEMENT. IN NO EVENT SHALL THE\n",
        "# AUTHORS OR COPYRIGHT HOLDERS BE LIABLE FOR ANY CLAIM, DAMAGES OR OTHER\n",
        "# LIABILITY, WHETHER IN AN ACTION OF CONTRACT, TORT OR OTHERWISE, ARISING FROM,\n",
        "# OUT OF OR IN CONNECTION WITH THE SOFTWARE OR THE USE OR OTHER DEALINGS IN\n",
        "# THE SOFTWARE.\n"
      ],
      "metadata": {
        "id": "PFUAjGYbeAII"
      },
      "execution_count": 5,
      "outputs": []
    },
    {
      "cell_type": "markdown",
      "source": [
        "# Redator ENEM"
      ],
      "metadata": {
        "id": "Hz2rTuoheIgM"
      }
    },
    {
      "cell_type": "markdown",
      "source": [
        "<table class=\"tfo-notebook-buttons\" align=\"left\">\n",
        "  <td>\n",
        "    <a target=\"_blank\" href=\"https://colab.research.google.com/github/ericshantos/Redador-ENEM/blob/main/Engenharia_de_prompt_Redador_ENEM.ipynb\"><img src=\"https://www.tensorflow.org/images/colab_logo_32px.png\" />Run in Google Colab</a>\n",
        "  </td>\n",
        "  <td>\n",
        "    <a target=\"_blank\" href=\"https://github.com/tensorflow/tensorflow/blob/master/tensorflow/lite/g3doc/guide/authoring.ipynb\"><img src=\"https://www.tensorflow.org/images/GitHub-Mark-32px.png\" />View source on GitHub</a>\n",
        "  </td>\n",
        "</table>"
      ],
      "metadata": {
        "id": "ebIS-ry6aQQh"
      }
    },
    {
      "cell_type": "markdown",
      "source": [
        "O intuito com essa aplicação e colocar em cheque habilidades em engenharia de prompt ao longos dos meus estudos em IAs.\n",
        "O objetivo é que a aplicação, através do Modelo de linguagem Grande (MML) ChatGPT-4, seja capaz de relacionar, avaliar e retorna um feedback claro é coeso sobre os atributos da redação (no modelo dissertativo argumentativo. De acordo com a banca do Exame Nacional do Ensino Médio - ENEM)."
      ],
      "metadata": {
        "id": "JZfjiwA1PbBb"
      }
    },
    {
      "cell_type": "code",
      "source": [],
      "metadata": {
        "id": "OMQgynYlTCJc"
      },
      "execution_count": null,
      "outputs": []
    }
  ]
}